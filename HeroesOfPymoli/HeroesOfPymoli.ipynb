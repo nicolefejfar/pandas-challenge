{
 "cells": [
  {
   "cell_type": "markdown",
   "metadata": {},
   "source": [
    "## Heroes of Pymoli Analysis\n",
    "### Conclusions\n",
    "* Majority of players are male (84%)\n",
    "* Majority of players are ages 15-29, accounting for more than 75% of players\n",
    "    * Ages 20-24 (45%)\n",
    "\t* Ages 15-19 (19%)\n",
    "\t* Ages 25-29 (13%)\n",
    "* Same age groups produce the most revenue\n",
    "    * Ages 20-24 (47%)\n",
    "\t* Ages 15-19 (17%)\n",
    "\t* Ages 25-29 (12%)\n",
    "    * They didn't necessarily buy the most expensive items though\n",
    "\n",
    "I know zip about business, but perhaps we should consider expanding our target demographic :-)\n",
    "\n",
    "________________________________________________________________\n"
   ]
  },
  {
   "cell_type": "markdown",
   "metadata": {},
   "source": [
    "# Code\n",
    "### Setup"
   ]
  },
  {
   "cell_type": "code",
   "execution_count": 1,
   "metadata": {},
   "outputs": [
    {
     "data": {
      "text/html": [
       "<div>\n",
       "<style scoped>\n",
       "    .dataframe tbody tr th:only-of-type {\n",
       "        vertical-align: middle;\n",
       "    }\n",
       "\n",
       "    .dataframe tbody tr th {\n",
       "        vertical-align: top;\n",
       "    }\n",
       "\n",
       "    .dataframe thead th {\n",
       "        text-align: right;\n",
       "    }\n",
       "</style>\n",
       "<table border=\"1\" class=\"dataframe\">\n",
       "  <thead>\n",
       "    <tr style=\"text-align: right;\">\n",
       "      <th></th>\n",
       "      <th>Purchase ID</th>\n",
       "      <th>SN</th>\n",
       "      <th>Age</th>\n",
       "      <th>Gender</th>\n",
       "      <th>Item ID</th>\n",
       "      <th>Item Name</th>\n",
       "      <th>Price</th>\n",
       "    </tr>\n",
       "  </thead>\n",
       "  <tbody>\n",
       "    <tr>\n",
       "      <th>0</th>\n",
       "      <td>0</td>\n",
       "      <td>Lisim78</td>\n",
       "      <td>20</td>\n",
       "      <td>Male</td>\n",
       "      <td>108</td>\n",
       "      <td>Extraction, Quickblade Of Trembling Hands</td>\n",
       "      <td>3.53</td>\n",
       "    </tr>\n",
       "    <tr>\n",
       "      <th>1</th>\n",
       "      <td>1</td>\n",
       "      <td>Lisovynya38</td>\n",
       "      <td>40</td>\n",
       "      <td>Male</td>\n",
       "      <td>143</td>\n",
       "      <td>Frenzied Scimitar</td>\n",
       "      <td>1.56</td>\n",
       "    </tr>\n",
       "    <tr>\n",
       "      <th>2</th>\n",
       "      <td>2</td>\n",
       "      <td>Ithergue48</td>\n",
       "      <td>24</td>\n",
       "      <td>Male</td>\n",
       "      <td>92</td>\n",
       "      <td>Final Critic</td>\n",
       "      <td>4.88</td>\n",
       "    </tr>\n",
       "  </tbody>\n",
       "</table>\n",
       "</div>"
      ],
      "text/plain": [
       "   Purchase ID           SN  Age Gender  Item ID  \\\n",
       "0            0      Lisim78   20   Male      108   \n",
       "1            1  Lisovynya38   40   Male      143   \n",
       "2            2   Ithergue48   24   Male       92   \n",
       "\n",
       "                                   Item Name  Price  \n",
       "0  Extraction, Quickblade Of Trembling Hands   3.53  \n",
       "1                          Frenzied Scimitar   1.56  \n",
       "2                               Final Critic   4.88  "
      ]
     },
     "execution_count": 1,
     "metadata": {},
     "output_type": "execute_result"
    }
   ],
   "source": [
    "# Dependencies and Setup\n",
    "import pandas as pd\n",
    "\n",
    "# File to Load (Remember to Change These)\n",
    "file_to_load = \"Resources/purchase_data.csv\"\n",
    "\n",
    "# Read Purchasing File and store into Pandas data frame\n",
    "data_df = pd.read_csv(file_to_load)\n",
    "data_df.head(3)"
   ]
  },
  {
   "cell_type": "markdown",
   "metadata": {},
   "source": [
    "### Player Count"
   ]
  },
  {
   "cell_type": "code",
   "execution_count": 2,
   "metadata": {},
   "outputs": [
    {
     "data": {
      "text/html": [
       "<div>\n",
       "<style scoped>\n",
       "    .dataframe tbody tr th:only-of-type {\n",
       "        vertical-align: middle;\n",
       "    }\n",
       "\n",
       "    .dataframe tbody tr th {\n",
       "        vertical-align: top;\n",
       "    }\n",
       "\n",
       "    .dataframe thead th {\n",
       "        text-align: right;\n",
       "    }\n",
       "</style>\n",
       "<table border=\"1\" class=\"dataframe\">\n",
       "  <thead>\n",
       "    <tr style=\"text-align: right;\">\n",
       "      <th></th>\n",
       "      <th>Total Players</th>\n",
       "    </tr>\n",
       "  </thead>\n",
       "  <tbody>\n",
       "    <tr>\n",
       "      <th>0</th>\n",
       "      <td>576</td>\n",
       "    </tr>\n",
       "  </tbody>\n",
       "</table>\n",
       "</div>"
      ],
      "text/plain": [
       "   Total Players\n",
       "0            576"
      ]
     },
     "execution_count": 2,
     "metadata": {},
     "output_type": "execute_result"
    }
   ],
   "source": [
    "player_count = len(data_df['SN'].value_counts())\n",
    "player_count_df = pd.DataFrame({\"Total Players\": [player_count]})\n",
    "player_count_df"
   ]
  },
  {
   "cell_type": "markdown",
   "metadata": {},
   "source": [
    "### Purchasing Analysis (Total)"
   ]
  },
  {
   "cell_type": "code",
   "execution_count": 3,
   "metadata": {},
   "outputs": [
    {
     "data": {
      "text/html": [
       "<style  type=\"text/css\" >\n",
       "</style><table id=\"T_45464474_c232_11ea_a695_9cb6d0ed0948\" ><thead>    <tr>        <th class=\"blank level0\" ></th>        <th class=\"col_heading level0 col0\" >Number of Unique Items</th>        <th class=\"col_heading level0 col1\" >Average Price</th>        <th class=\"col_heading level0 col2\" >Number of Purchases</th>        <th class=\"col_heading level0 col3\" >Total Revenue</th>    </tr></thead><tbody>\n",
       "                <tr>\n",
       "                        <th id=\"T_45464474_c232_11ea_a695_9cb6d0ed0948level0_row0\" class=\"row_heading level0 row0\" >0</th>\n",
       "                        <td id=\"T_45464474_c232_11ea_a695_9cb6d0ed0948row0_col0\" class=\"data row0 col0\" >179</td>\n",
       "                        <td id=\"T_45464474_c232_11ea_a695_9cb6d0ed0948row0_col1\" class=\"data row0 col1\" >$3.05</td>\n",
       "                        <td id=\"T_45464474_c232_11ea_a695_9cb6d0ed0948row0_col2\" class=\"data row0 col2\" >780</td>\n",
       "                        <td id=\"T_45464474_c232_11ea_a695_9cb6d0ed0948row0_col3\" class=\"data row0 col3\" >$2,379.77</td>\n",
       "            </tr>\n",
       "    </tbody></table>"
      ],
      "text/plain": [
       "<pandas.io.formats.style.Styler at 0x24499cd3388>"
      ]
     },
     "execution_count": 3,
     "metadata": {},
     "output_type": "execute_result"
    }
   ],
   "source": [
    "unique_item_count = len(data_df['Item Name'].unique())\n",
    "total_purchases = len(data_df['Purchase ID'])\n",
    "total_revenue = data_df['Price'].sum()\n",
    "avg_price = total_revenue / total_purchases\n",
    "\n",
    "analysis_df = pd.DataFrame({'Number of Unique Items': [unique_item_count],\n",
    "                                  'Average Price': avg_price,\n",
    "                                  'Number of Purchases': total_purchases,\n",
    "                                  'Total Revenue': total_revenue})\n",
    "analysis_df.style.format({'Average Price':\"${:.2f}\", 'Total Revenue':\"${:,.2f}\"})"
   ]
  },
  {
   "cell_type": "markdown",
   "metadata": {},
   "source": [
    "### Gender Demographics"
   ]
  },
  {
   "cell_type": "code",
   "execution_count": 4,
   "metadata": {},
   "outputs": [
    {
     "data": {
      "text/html": [
       "<div>\n",
       "<style scoped>\n",
       "    .dataframe tbody tr th:only-of-type {\n",
       "        vertical-align: middle;\n",
       "    }\n",
       "\n",
       "    .dataframe tbody tr th {\n",
       "        vertical-align: top;\n",
       "    }\n",
       "\n",
       "    .dataframe thead th {\n",
       "        text-align: right;\n",
       "    }\n",
       "</style>\n",
       "<table border=\"1\" class=\"dataframe\">\n",
       "  <thead>\n",
       "    <tr style=\"text-align: right;\">\n",
       "      <th></th>\n",
       "      <th>Total Count</th>\n",
       "      <th>Percentage of Players</th>\n",
       "    </tr>\n",
       "  </thead>\n",
       "  <tbody>\n",
       "    <tr>\n",
       "      <th>Male</th>\n",
       "      <td>484</td>\n",
       "      <td>84.03%</td>\n",
       "    </tr>\n",
       "    <tr>\n",
       "      <th>Female</th>\n",
       "      <td>81</td>\n",
       "      <td>14.06%</td>\n",
       "    </tr>\n",
       "    <tr>\n",
       "      <th>Other / Non-Disclosed</th>\n",
       "      <td>11</td>\n",
       "      <td>1.91%</td>\n",
       "    </tr>\n",
       "  </tbody>\n",
       "</table>\n",
       "</div>"
      ],
      "text/plain": [
       "                       Total Count Percentage of Players\n",
       "Male                           484                84.03%\n",
       "Female                          81                14.06%\n",
       "Other / Non-Disclosed           11                 1.91%"
      ]
     },
     "execution_count": 4,
     "metadata": {},
     "output_type": "execute_result"
    }
   ],
   "source": [
    "age_groupby = data_df.groupby('Gender')\n",
    "total_gender_count = age_groupby[\"SN\"].nunique()\n",
    "percent_gender_count = total_gender_count / player_count * 100\n",
    "gender_demographics_df = pd.DataFrame({'Total Count': total_gender_count,\n",
    "                                    'Percentage of Players': percent_gender_count.map(\"{:.2f}%\".format)})\n",
    "gender_demographics_df.index.name = None\n",
    "gender_demographics_df = gender_demographics_df.sort_values('Total Count', ascending = False)\n",
    "gender_demographics_df"
   ]
  },
  {
   "cell_type": "markdown",
   "metadata": {},
   "source": [
    "\n",
    "### Purchasing Analysis (Gender)"
   ]
  },
  {
   "cell_type": "code",
   "execution_count": 5,
   "metadata": {},
   "outputs": [
    {
     "data": {
      "text/html": [
       "<div>\n",
       "<style scoped>\n",
       "    .dataframe tbody tr th:only-of-type {\n",
       "        vertical-align: middle;\n",
       "    }\n",
       "\n",
       "    .dataframe tbody tr th {\n",
       "        vertical-align: top;\n",
       "    }\n",
       "\n",
       "    .dataframe thead th {\n",
       "        text-align: right;\n",
       "    }\n",
       "</style>\n",
       "<table border=\"1\" class=\"dataframe\">\n",
       "  <thead>\n",
       "    <tr style=\"text-align: right;\">\n",
       "      <th></th>\n",
       "      <th>Purchase Count</th>\n",
       "      <th>Average Purchase Price</th>\n",
       "      <th>Total Purchase Value</th>\n",
       "      <th>Avg Total Purchase per Person</th>\n",
       "    </tr>\n",
       "    <tr>\n",
       "      <th>Gender</th>\n",
       "      <th></th>\n",
       "      <th></th>\n",
       "      <th></th>\n",
       "      <th></th>\n",
       "    </tr>\n",
       "  </thead>\n",
       "  <tbody>\n",
       "    <tr>\n",
       "      <th>Female</th>\n",
       "      <td>113</td>\n",
       "      <td>$3.20</td>\n",
       "      <td>$361.94</td>\n",
       "      <td>$4.47</td>\n",
       "    </tr>\n",
       "    <tr>\n",
       "      <th>Male</th>\n",
       "      <td>652</td>\n",
       "      <td>$3.02</td>\n",
       "      <td>$1,967.64</td>\n",
       "      <td>$4.07</td>\n",
       "    </tr>\n",
       "    <tr>\n",
       "      <th>Other / Non-Disclosed</th>\n",
       "      <td>15</td>\n",
       "      <td>$3.35</td>\n",
       "      <td>$50.19</td>\n",
       "      <td>$4.56</td>\n",
       "    </tr>\n",
       "  </tbody>\n",
       "</table>\n",
       "</div>"
      ],
      "text/plain": [
       "                       Purchase Count Average Purchase Price  \\\n",
       "Gender                                                         \n",
       "Female                            113                  $3.20   \n",
       "Male                              652                  $3.02   \n",
       "Other / Non-Disclosed              15                  $3.35   \n",
       "\n",
       "                      Total Purchase Value Avg Total Purchase per Person  \n",
       "Gender                                                                    \n",
       "Female                             $361.94                         $4.47  \n",
       "Male                             $1,967.64                         $4.07  \n",
       "Other / Non-Disclosed               $50.19                         $4.56  "
      ]
     },
     "execution_count": 5,
     "metadata": {},
     "output_type": "execute_result"
    }
   ],
   "source": [
    "gender_groupby = data_df.groupby('Gender')\n",
    "total_gender_count = gender_groupby.nunique()['SN']\n",
    "purchase_count = gender_groupby['Purchase ID'].count()\n",
    "avg_purchase_price = gender_groupby['Price'].mean()\n",
    "total_purchase_value = gender_groupby['Price'].sum()\n",
    "avg_purchase_per_person = total_purchase_value / total_gender_count\n",
    "\n",
    "gender_purchase_df = pd.DataFrame({'Purchase Count': purchase_count,\n",
    "                                   'Average Purchase Price': avg_purchase_price.map(\"${:.2f}\".format),\n",
    "                                   'Total Purchase Value': total_purchase_value.map(\"${:,.2f}\".format),\n",
    "                                   'Avg Total Purchase per Person': avg_purchase_per_person.map(\"${:.2f}\".format)})\n",
    "gender_purchase_df\n"
   ]
  },
  {
   "cell_type": "markdown",
   "metadata": {},
   "source": [
    "### Age Demographics"
   ]
  },
  {
   "cell_type": "code",
   "execution_count": 6,
   "metadata": {},
   "outputs": [
    {
     "data": {
      "text/html": [
       "<div>\n",
       "<style scoped>\n",
       "    .dataframe tbody tr th:only-of-type {\n",
       "        vertical-align: middle;\n",
       "    }\n",
       "\n",
       "    .dataframe tbody tr th {\n",
       "        vertical-align: top;\n",
       "    }\n",
       "\n",
       "    .dataframe thead th {\n",
       "        text-align: right;\n",
       "    }\n",
       "</style>\n",
       "<table border=\"1\" class=\"dataframe\">\n",
       "  <thead>\n",
       "    <tr style=\"text-align: right;\">\n",
       "      <th></th>\n",
       "      <th>Total Count</th>\n",
       "      <th>Percentage of Players</th>\n",
       "    </tr>\n",
       "  </thead>\n",
       "  <tbody>\n",
       "    <tr>\n",
       "      <th>&lt;10</th>\n",
       "      <td>17</td>\n",
       "      <td>2.95%</td>\n",
       "    </tr>\n",
       "    <tr>\n",
       "      <th>10-14</th>\n",
       "      <td>22</td>\n",
       "      <td>3.82%</td>\n",
       "    </tr>\n",
       "    <tr>\n",
       "      <th>15-19</th>\n",
       "      <td>107</td>\n",
       "      <td>18.58%</td>\n",
       "    </tr>\n",
       "    <tr>\n",
       "      <th>20-24</th>\n",
       "      <td>258</td>\n",
       "      <td>44.79%</td>\n",
       "    </tr>\n",
       "    <tr>\n",
       "      <th>25-29</th>\n",
       "      <td>77</td>\n",
       "      <td>13.37%</td>\n",
       "    </tr>\n",
       "    <tr>\n",
       "      <th>30-34</th>\n",
       "      <td>52</td>\n",
       "      <td>9.03%</td>\n",
       "    </tr>\n",
       "    <tr>\n",
       "      <th>35-39</th>\n",
       "      <td>31</td>\n",
       "      <td>5.38%</td>\n",
       "    </tr>\n",
       "    <tr>\n",
       "      <th>40+</th>\n",
       "      <td>12</td>\n",
       "      <td>2.08%</td>\n",
       "    </tr>\n",
       "  </tbody>\n",
       "</table>\n",
       "</div>"
      ],
      "text/plain": [
       "       Total Count Percentage of Players\n",
       "<10             17                 2.95%\n",
       "10-14           22                 3.82%\n",
       "15-19          107                18.58%\n",
       "20-24          258                44.79%\n",
       "25-29           77                13.37%\n",
       "30-34           52                 9.03%\n",
       "35-39           31                 5.38%\n",
       "40+             12                 2.08%"
      ]
     },
     "execution_count": 6,
     "metadata": {},
     "output_type": "execute_result"
    }
   ],
   "source": [
    "age_bins = [0, 9.99, 14.99, 19.99, 24.99, 29.99, 34.99, 39.99, 100]\n",
    "age_bin_label = [\"<10\", \"10-14\", \"15-19\", \"20-24\", \"25-29\", \"30-34\", \"35-39\", \"40+\"]\n",
    "\n",
    "data_df['Age Ranges'] = pd.cut(data_df['Age'], age_bins, labels = age_bin_label)\n",
    "age_groupby = data_df.groupby('Age Ranges')\n",
    "\n",
    "total_age_count = age_groupby[\"SN\"].nunique()\n",
    "percent_age_count = total_age_count / player_count * 100\n",
    "\n",
    "age_demographics_df = pd.DataFrame({'Total Count': total_age_count,\n",
    "                                    'Percentage of Players': percent_age_count.map(\"{:.2f}%\".format)})\n",
    "age_demographics_df.index.name = None\n",
    "age_demographics_df"
   ]
  },
  {
   "cell_type": "markdown",
   "metadata": {},
   "source": [
    "### Purchasing Analysis (Age)"
   ]
  },
  {
   "cell_type": "code",
   "execution_count": 7,
   "metadata": {},
   "outputs": [
    {
     "data": {
      "text/html": [
       "<div>\n",
       "<style scoped>\n",
       "    .dataframe tbody tr th:only-of-type {\n",
       "        vertical-align: middle;\n",
       "    }\n",
       "\n",
       "    .dataframe tbody tr th {\n",
       "        vertical-align: top;\n",
       "    }\n",
       "\n",
       "    .dataframe thead th {\n",
       "        text-align: right;\n",
       "    }\n",
       "</style>\n",
       "<table border=\"1\" class=\"dataframe\">\n",
       "  <thead>\n",
       "    <tr style=\"text-align: right;\">\n",
       "      <th></th>\n",
       "      <th>Purchase Count</th>\n",
       "      <th>Average Purchase Price</th>\n",
       "      <th>Total Purchase Value</th>\n",
       "      <th>Avg Total Purchase per Person</th>\n",
       "    </tr>\n",
       "    <tr>\n",
       "      <th>Age Ranges</th>\n",
       "      <th></th>\n",
       "      <th></th>\n",
       "      <th></th>\n",
       "      <th></th>\n",
       "    </tr>\n",
       "  </thead>\n",
       "  <tbody>\n",
       "    <tr>\n",
       "      <th>&lt;10</th>\n",
       "      <td>23</td>\n",
       "      <td>$3.35</td>\n",
       "      <td>$77.13</td>\n",
       "      <td>$4.54</td>\n",
       "    </tr>\n",
       "    <tr>\n",
       "      <th>10-14</th>\n",
       "      <td>28</td>\n",
       "      <td>$2.96</td>\n",
       "      <td>$82.78</td>\n",
       "      <td>$3.76</td>\n",
       "    </tr>\n",
       "    <tr>\n",
       "      <th>15-19</th>\n",
       "      <td>136</td>\n",
       "      <td>$3.04</td>\n",
       "      <td>$412.89</td>\n",
       "      <td>$3.86</td>\n",
       "    </tr>\n",
       "    <tr>\n",
       "      <th>20-24</th>\n",
       "      <td>365</td>\n",
       "      <td>$3.05</td>\n",
       "      <td>$1,114.06</td>\n",
       "      <td>$4.32</td>\n",
       "    </tr>\n",
       "    <tr>\n",
       "      <th>25-29</th>\n",
       "      <td>101</td>\n",
       "      <td>$2.90</td>\n",
       "      <td>$293.00</td>\n",
       "      <td>$3.81</td>\n",
       "    </tr>\n",
       "    <tr>\n",
       "      <th>30-34</th>\n",
       "      <td>73</td>\n",
       "      <td>$2.93</td>\n",
       "      <td>$214.00</td>\n",
       "      <td>$4.12</td>\n",
       "    </tr>\n",
       "    <tr>\n",
       "      <th>35-39</th>\n",
       "      <td>41</td>\n",
       "      <td>$3.60</td>\n",
       "      <td>$147.67</td>\n",
       "      <td>$4.76</td>\n",
       "    </tr>\n",
       "    <tr>\n",
       "      <th>40+</th>\n",
       "      <td>13</td>\n",
       "      <td>$2.94</td>\n",
       "      <td>$38.24</td>\n",
       "      <td>$3.19</td>\n",
       "    </tr>\n",
       "  </tbody>\n",
       "</table>\n",
       "</div>"
      ],
      "text/plain": [
       "            Purchase Count Average Purchase Price Total Purchase Value  \\\n",
       "Age Ranges                                                               \n",
       "<10                     23                  $3.35               $77.13   \n",
       "10-14                   28                  $2.96               $82.78   \n",
       "15-19                  136                  $3.04              $412.89   \n",
       "20-24                  365                  $3.05            $1,114.06   \n",
       "25-29                  101                  $2.90              $293.00   \n",
       "30-34                   73                  $2.93              $214.00   \n",
       "35-39                   41                  $3.60              $147.67   \n",
       "40+                     13                  $2.94               $38.24   \n",
       "\n",
       "           Avg Total Purchase per Person  \n",
       "Age Ranges                                \n",
       "<10                                $4.54  \n",
       "10-14                              $3.76  \n",
       "15-19                              $3.86  \n",
       "20-24                              $4.32  \n",
       "25-29                              $3.81  \n",
       "30-34                              $4.12  \n",
       "35-39                              $4.76  \n",
       "40+                                $3.19  "
      ]
     },
     "execution_count": 7,
     "metadata": {},
     "output_type": "execute_result"
    }
   ],
   "source": [
    "# Used binning / cut variable from previous cell\n",
    "purchase_count_age = age_groupby['Purchase ID'].count()\n",
    "avg_purchase_price_age = age_groupby['Price'].mean()\n",
    "total_puchase_value_age = age_groupby['Price'].sum()\n",
    "avg_purchase_per_person_age = total_puchase_value_age / total_age_count\n",
    "\n",
    "age_purchase_df = pd.DataFrame({'Purchase Count': purchase_count_age,\n",
    "                                'Average Purchase Price': avg_purchase_price_age.map('${:.2f}'.format),\n",
    "                                'Total Purchase Value': total_puchase_value_age.map('${:,.2f}'.format),\n",
    "                                'Avg Total Purchase per Person': avg_purchase_per_person_age.map('${:.2f}'.format)})\n",
    "\n",
    "age_purchase_df.index.name = 'Age Ranges'\n",
    "age_purchase_df"
   ]
  },
  {
   "cell_type": "markdown",
   "metadata": {},
   "source": [
    "### Top Spenders"
   ]
  },
  {
   "cell_type": "code",
   "execution_count": 8,
   "metadata": {},
   "outputs": [
    {
     "data": {
      "text/html": [
       "<style  type=\"text/css\" >\n",
       "</style><table id=\"T_455dab98_c232_11ea_a982_9cb6d0ed0948\" ><thead>    <tr>        <th class=\"blank level0\" ></th>        <th class=\"col_heading level0 col0\" >Purchase Count</th>        <th class=\"col_heading level0 col1\" >Average Purchase Price</th>        <th class=\"col_heading level0 col2\" >Total Purchase Value</th>    </tr>    <tr>        <th class=\"index_name level0\" >SN</th>        <th class=\"blank\" ></th>        <th class=\"blank\" ></th>        <th class=\"blank\" ></th>    </tr></thead><tbody>\n",
       "                <tr>\n",
       "                        <th id=\"T_455dab98_c232_11ea_a982_9cb6d0ed0948level0_row0\" class=\"row_heading level0 row0\" >Lisosia93</th>\n",
       "                        <td id=\"T_455dab98_c232_11ea_a982_9cb6d0ed0948row0_col0\" class=\"data row0 col0\" >5</td>\n",
       "                        <td id=\"T_455dab98_c232_11ea_a982_9cb6d0ed0948row0_col1\" class=\"data row0 col1\" >$3.79</td>\n",
       "                        <td id=\"T_455dab98_c232_11ea_a982_9cb6d0ed0948row0_col2\" class=\"data row0 col2\" >$18.96</td>\n",
       "            </tr>\n",
       "            <tr>\n",
       "                        <th id=\"T_455dab98_c232_11ea_a982_9cb6d0ed0948level0_row1\" class=\"row_heading level0 row1\" >Idastidru52</th>\n",
       "                        <td id=\"T_455dab98_c232_11ea_a982_9cb6d0ed0948row1_col0\" class=\"data row1 col0\" >4</td>\n",
       "                        <td id=\"T_455dab98_c232_11ea_a982_9cb6d0ed0948row1_col1\" class=\"data row1 col1\" >$3.86</td>\n",
       "                        <td id=\"T_455dab98_c232_11ea_a982_9cb6d0ed0948row1_col2\" class=\"data row1 col2\" >$15.45</td>\n",
       "            </tr>\n",
       "            <tr>\n",
       "                        <th id=\"T_455dab98_c232_11ea_a982_9cb6d0ed0948level0_row2\" class=\"row_heading level0 row2\" >Chamjask73</th>\n",
       "                        <td id=\"T_455dab98_c232_11ea_a982_9cb6d0ed0948row2_col0\" class=\"data row2 col0\" >3</td>\n",
       "                        <td id=\"T_455dab98_c232_11ea_a982_9cb6d0ed0948row2_col1\" class=\"data row2 col1\" >$4.61</td>\n",
       "                        <td id=\"T_455dab98_c232_11ea_a982_9cb6d0ed0948row2_col2\" class=\"data row2 col2\" >$13.83</td>\n",
       "            </tr>\n",
       "            <tr>\n",
       "                        <th id=\"T_455dab98_c232_11ea_a982_9cb6d0ed0948level0_row3\" class=\"row_heading level0 row3\" >Iral74</th>\n",
       "                        <td id=\"T_455dab98_c232_11ea_a982_9cb6d0ed0948row3_col0\" class=\"data row3 col0\" >4</td>\n",
       "                        <td id=\"T_455dab98_c232_11ea_a982_9cb6d0ed0948row3_col1\" class=\"data row3 col1\" >$3.40</td>\n",
       "                        <td id=\"T_455dab98_c232_11ea_a982_9cb6d0ed0948row3_col2\" class=\"data row3 col2\" >$13.62</td>\n",
       "            </tr>\n",
       "            <tr>\n",
       "                        <th id=\"T_455dab98_c232_11ea_a982_9cb6d0ed0948level0_row4\" class=\"row_heading level0 row4\" >Iskadarya95</th>\n",
       "                        <td id=\"T_455dab98_c232_11ea_a982_9cb6d0ed0948row4_col0\" class=\"data row4 col0\" >3</td>\n",
       "                        <td id=\"T_455dab98_c232_11ea_a982_9cb6d0ed0948row4_col1\" class=\"data row4 col1\" >$4.37</td>\n",
       "                        <td id=\"T_455dab98_c232_11ea_a982_9cb6d0ed0948row4_col2\" class=\"data row4 col2\" >$13.10</td>\n",
       "            </tr>\n",
       "    </tbody></table>"
      ],
      "text/plain": [
       "<pandas.io.formats.style.Styler at 0x2449ab04fc8>"
      ]
     },
     "execution_count": 8,
     "metadata": {},
     "output_type": "execute_result"
    }
   ],
   "source": [
    "sn_groupby = data_df.groupby('SN')\n",
    "sn_purchase_count = sn_groupby['Purchase ID'].count()\n",
    "sn_avg_purchase_price = sn_groupby['Price'].mean()\n",
    "sn_total_purchase_value = sn_groupby['Price'].sum()\n",
    "\n",
    "sn_df = pd.DataFrame({'Purchase Count': sn_purchase_count,\n",
    "                     'Average Purchase Price': sn_avg_purchase_price,\n",
    "                     'Total Purchase Value': sn_total_purchase_value})\n",
    "\n",
    "formatting = sn_df.sort_values(by = ['Total Purchase Value'], ascending = False).head(5)\n",
    "formatting.style.format({'Average Purchase Price':'${:.2f}',\n",
    "                         'Total Purchase Value':'${:.2f}'})"
   ]
  },
  {
   "cell_type": "markdown",
   "metadata": {},
   "source": [
    "### Most Popular Items"
   ]
  },
  {
   "cell_type": "code",
   "execution_count": 9,
   "metadata": {},
   "outputs": [
    {
     "data": {
      "text/html": [
       "<style  type=\"text/css\" >\n",
       "</style><table id=\"T_456213ac_c232_11ea_b851_9cb6d0ed0948\" ><thead>    <tr>        <th class=\"blank\" ></th>        <th class=\"blank level0\" ></th>        <th class=\"col_heading level0 col0\" >Purchase Count</th>        <th class=\"col_heading level0 col1\" >Item Price</th>        <th class=\"col_heading level0 col2\" >Total Purchase Value</th>    </tr>    <tr>        <th class=\"index_name level0\" >Item ID</th>        <th class=\"index_name level1\" >Item Name</th>        <th class=\"blank\" ></th>        <th class=\"blank\" ></th>        <th class=\"blank\" ></th>    </tr></thead><tbody>\n",
       "                <tr>\n",
       "                        <th id=\"T_456213ac_c232_11ea_b851_9cb6d0ed0948level0_row0\" class=\"row_heading level0 row0\" >92</th>\n",
       "                        <th id=\"T_456213ac_c232_11ea_b851_9cb6d0ed0948level1_row0\" class=\"row_heading level1 row0\" >Final Critic</th>\n",
       "                        <td id=\"T_456213ac_c232_11ea_b851_9cb6d0ed0948row0_col0\" class=\"data row0 col0\" >13</td>\n",
       "                        <td id=\"T_456213ac_c232_11ea_b851_9cb6d0ed0948row0_col1\" class=\"data row0 col1\" >$4.61</td>\n",
       "                        <td id=\"T_456213ac_c232_11ea_b851_9cb6d0ed0948row0_col2\" class=\"data row0 col2\" >$59.99</td>\n",
       "            </tr>\n",
       "            <tr>\n",
       "                        <th id=\"T_456213ac_c232_11ea_b851_9cb6d0ed0948level0_row1\" class=\"row_heading level0 row1\" >178</th>\n",
       "                        <th id=\"T_456213ac_c232_11ea_b851_9cb6d0ed0948level1_row1\" class=\"row_heading level1 row1\" >Oathbreaker, Last Hope of the Breaking Storm</th>\n",
       "                        <td id=\"T_456213ac_c232_11ea_b851_9cb6d0ed0948row1_col0\" class=\"data row1 col0\" >12</td>\n",
       "                        <td id=\"T_456213ac_c232_11ea_b851_9cb6d0ed0948row1_col1\" class=\"data row1 col1\" >$4.23</td>\n",
       "                        <td id=\"T_456213ac_c232_11ea_b851_9cb6d0ed0948row1_col2\" class=\"data row1 col2\" >$50.76</td>\n",
       "            </tr>\n",
       "            <tr>\n",
       "                        <th id=\"T_456213ac_c232_11ea_b851_9cb6d0ed0948level0_row2\" class=\"row_heading level0 row2\" >145</th>\n",
       "                        <th id=\"T_456213ac_c232_11ea_b851_9cb6d0ed0948level1_row2\" class=\"row_heading level1 row2\" >Fiery Glass Crusader</th>\n",
       "                        <td id=\"T_456213ac_c232_11ea_b851_9cb6d0ed0948row2_col0\" class=\"data row2 col0\" >9</td>\n",
       "                        <td id=\"T_456213ac_c232_11ea_b851_9cb6d0ed0948row2_col1\" class=\"data row2 col1\" >$4.58</td>\n",
       "                        <td id=\"T_456213ac_c232_11ea_b851_9cb6d0ed0948row2_col2\" class=\"data row2 col2\" >$41.22</td>\n",
       "            </tr>\n",
       "            <tr>\n",
       "                        <th id=\"T_456213ac_c232_11ea_b851_9cb6d0ed0948level0_row3\" class=\"row_heading level0 row3\" >132</th>\n",
       "                        <th id=\"T_456213ac_c232_11ea_b851_9cb6d0ed0948level1_row3\" class=\"row_heading level1 row3\" >Persuasion</th>\n",
       "                        <td id=\"T_456213ac_c232_11ea_b851_9cb6d0ed0948row3_col0\" class=\"data row3 col0\" >9</td>\n",
       "                        <td id=\"T_456213ac_c232_11ea_b851_9cb6d0ed0948row3_col1\" class=\"data row3 col1\" >$3.22</td>\n",
       "                        <td id=\"T_456213ac_c232_11ea_b851_9cb6d0ed0948row3_col2\" class=\"data row3 col2\" >$28.99</td>\n",
       "            </tr>\n",
       "            <tr>\n",
       "                        <th id=\"T_456213ac_c232_11ea_b851_9cb6d0ed0948level0_row4\" class=\"row_heading level0 row4\" >108</th>\n",
       "                        <th id=\"T_456213ac_c232_11ea_b851_9cb6d0ed0948level1_row4\" class=\"row_heading level1 row4\" >Extraction, Quickblade Of Trembling Hands</th>\n",
       "                        <td id=\"T_456213ac_c232_11ea_b851_9cb6d0ed0948row4_col0\" class=\"data row4 col0\" >9</td>\n",
       "                        <td id=\"T_456213ac_c232_11ea_b851_9cb6d0ed0948row4_col1\" class=\"data row4 col1\" >$3.53</td>\n",
       "                        <td id=\"T_456213ac_c232_11ea_b851_9cb6d0ed0948row4_col2\" class=\"data row4 col2\" >$31.77</td>\n",
       "            </tr>\n",
       "    </tbody></table>"
      ],
      "text/plain": [
       "<pandas.io.formats.style.Styler at 0x2449ab04248>"
      ]
     },
     "execution_count": 9,
     "metadata": {},
     "output_type": "execute_result"
    }
   ],
   "source": [
    "item_groupby = data_df.groupby(['Item ID', 'Item Name'])\n",
    "item_purchase_count = item_groupby['Purchase ID'].count()\n",
    "item_total_purchase_value = item_groupby['Price'].sum()\n",
    "item_price = item_total_purchase_value / item_purchase_count\n",
    "\n",
    "popular_df = pd.DataFrame({'Purchase Count': item_purchase_count, 'Item Price': item_price,\n",
    "                          'Total Purchase Value': item_total_purchase_value})\n",
    "\n",
    "formatting = popular_df.sort_values(by = ['Purchase Count'], ascending = False).head(5)\n",
    "formatting.style.format({'Item Price':'${:.2f}',\n",
    "                         'Total Purchase Value':'${:.2f}'})"
   ]
  },
  {
   "cell_type": "markdown",
   "metadata": {},
   "source": [
    "### Most Profitable Items"
   ]
  },
  {
   "cell_type": "code",
   "execution_count": 10,
   "metadata": {
    "scrolled": true
   },
   "outputs": [
    {
     "data": {
      "text/html": [
       "<style  type=\"text/css\" >\n",
       "</style><table id=\"T_45645c0c_c232_11ea_9515_9cb6d0ed0948\" ><thead>    <tr>        <th class=\"blank\" ></th>        <th class=\"blank level0\" ></th>        <th class=\"col_heading level0 col0\" >Purchase Count</th>        <th class=\"col_heading level0 col1\" >Item Price</th>        <th class=\"col_heading level0 col2\" >Total Purchase Value</th>    </tr>    <tr>        <th class=\"index_name level0\" >Item ID</th>        <th class=\"index_name level1\" >Item Name</th>        <th class=\"blank\" ></th>        <th class=\"blank\" ></th>        <th class=\"blank\" ></th>    </tr></thead><tbody>\n",
       "                <tr>\n",
       "                        <th id=\"T_45645c0c_c232_11ea_9515_9cb6d0ed0948level0_row0\" class=\"row_heading level0 row0\" >92</th>\n",
       "                        <th id=\"T_45645c0c_c232_11ea_9515_9cb6d0ed0948level1_row0\" class=\"row_heading level1 row0\" >Final Critic</th>\n",
       "                        <td id=\"T_45645c0c_c232_11ea_9515_9cb6d0ed0948row0_col0\" class=\"data row0 col0\" >13</td>\n",
       "                        <td id=\"T_45645c0c_c232_11ea_9515_9cb6d0ed0948row0_col1\" class=\"data row0 col1\" >$4.61</td>\n",
       "                        <td id=\"T_45645c0c_c232_11ea_9515_9cb6d0ed0948row0_col2\" class=\"data row0 col2\" >$59.99</td>\n",
       "            </tr>\n",
       "            <tr>\n",
       "                        <th id=\"T_45645c0c_c232_11ea_9515_9cb6d0ed0948level0_row1\" class=\"row_heading level0 row1\" >178</th>\n",
       "                        <th id=\"T_45645c0c_c232_11ea_9515_9cb6d0ed0948level1_row1\" class=\"row_heading level1 row1\" >Oathbreaker, Last Hope of the Breaking Storm</th>\n",
       "                        <td id=\"T_45645c0c_c232_11ea_9515_9cb6d0ed0948row1_col0\" class=\"data row1 col0\" >12</td>\n",
       "                        <td id=\"T_45645c0c_c232_11ea_9515_9cb6d0ed0948row1_col1\" class=\"data row1 col1\" >$4.23</td>\n",
       "                        <td id=\"T_45645c0c_c232_11ea_9515_9cb6d0ed0948row1_col2\" class=\"data row1 col2\" >$50.76</td>\n",
       "            </tr>\n",
       "            <tr>\n",
       "                        <th id=\"T_45645c0c_c232_11ea_9515_9cb6d0ed0948level0_row2\" class=\"row_heading level0 row2\" >82</th>\n",
       "                        <th id=\"T_45645c0c_c232_11ea_9515_9cb6d0ed0948level1_row2\" class=\"row_heading level1 row2\" >Nirvana</th>\n",
       "                        <td id=\"T_45645c0c_c232_11ea_9515_9cb6d0ed0948row2_col0\" class=\"data row2 col0\" >9</td>\n",
       "                        <td id=\"T_45645c0c_c232_11ea_9515_9cb6d0ed0948row2_col1\" class=\"data row2 col1\" >$4.90</td>\n",
       "                        <td id=\"T_45645c0c_c232_11ea_9515_9cb6d0ed0948row2_col2\" class=\"data row2 col2\" >$44.10</td>\n",
       "            </tr>\n",
       "            <tr>\n",
       "                        <th id=\"T_45645c0c_c232_11ea_9515_9cb6d0ed0948level0_row3\" class=\"row_heading level0 row3\" >145</th>\n",
       "                        <th id=\"T_45645c0c_c232_11ea_9515_9cb6d0ed0948level1_row3\" class=\"row_heading level1 row3\" >Fiery Glass Crusader</th>\n",
       "                        <td id=\"T_45645c0c_c232_11ea_9515_9cb6d0ed0948row3_col0\" class=\"data row3 col0\" >9</td>\n",
       "                        <td id=\"T_45645c0c_c232_11ea_9515_9cb6d0ed0948row3_col1\" class=\"data row3 col1\" >$4.58</td>\n",
       "                        <td id=\"T_45645c0c_c232_11ea_9515_9cb6d0ed0948row3_col2\" class=\"data row3 col2\" >$41.22</td>\n",
       "            </tr>\n",
       "            <tr>\n",
       "                        <th id=\"T_45645c0c_c232_11ea_9515_9cb6d0ed0948level0_row4\" class=\"row_heading level0 row4\" >103</th>\n",
       "                        <th id=\"T_45645c0c_c232_11ea_9515_9cb6d0ed0948level1_row4\" class=\"row_heading level1 row4\" >Singed Scalpel</th>\n",
       "                        <td id=\"T_45645c0c_c232_11ea_9515_9cb6d0ed0948row4_col0\" class=\"data row4 col0\" >8</td>\n",
       "                        <td id=\"T_45645c0c_c232_11ea_9515_9cb6d0ed0948row4_col1\" class=\"data row4 col1\" >$4.35</td>\n",
       "                        <td id=\"T_45645c0c_c232_11ea_9515_9cb6d0ed0948row4_col2\" class=\"data row4 col2\" >$34.80</td>\n",
       "            </tr>\n",
       "    </tbody></table>"
      ],
      "text/plain": [
       "<pandas.io.formats.style.Styler at 0x2449ab14908>"
      ]
     },
     "execution_count": 10,
     "metadata": {},
     "output_type": "execute_result"
    }
   ],
   "source": [
    "formatting = popular_df.sort_values(by = ['Total Purchase Value'], ascending = False).head(5)\n",
    "formatting.style.format({'Item Price':'${:.2f}',\n",
    "                         'Total Purchase Value':'${:.2f}'})"
   ]
  }
 ],
 "metadata": {
  "anaconda-cloud": {},
  "kernel_info": {
   "name": "python3"
  },
  "kernelspec": {
   "display_name": "Python 3",
   "language": "python",
   "name": "python3"
  },
  "language_info": {
   "codemirror_mode": {
    "name": "ipython",
    "version": 3
   },
   "file_extension": ".py",
   "mimetype": "text/x-python",
   "name": "python",
   "nbconvert_exporter": "python",
   "pygments_lexer": "ipython3",
   "version": "3.7.6"
  },
  "latex_envs": {
   "LaTeX_envs_menu_present": true,
   "autoclose": false,
   "autocomplete": true,
   "bibliofile": "biblio.bib",
   "cite_by": "apalike",
   "current_citInitial": 1,
   "eqLabelWithNumbers": true,
   "eqNumInitial": 1,
   "hotkeys": {
    "equation": "Ctrl-E",
    "itemize": "Ctrl-I"
   },
   "labels_anchors": false,
   "latex_user_defs": false,
   "report_style_numbering": false,
   "user_envs_cfg": false
  },
  "nteract": {
   "version": "0.2.0"
  }
 },
 "nbformat": 4,
 "nbformat_minor": 2
}
